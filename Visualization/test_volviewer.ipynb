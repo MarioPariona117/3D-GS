{
 "cells": [
  {
   "cell_type": "code",
   "execution_count": 8,
   "metadata": {},
   "outputs": [
    {
     "ename": "AttributeError",
     "evalue": "partially initialized module 'ipyvolume' has no attribute '_version' (most likely due to a circular import)",
     "output_type": "error",
     "traceback": [
      "\u001b[0;31m---------------------------------------------------------------------------\u001b[0m",
      "\u001b[0;31mAttributeError\u001b[0m                            Traceback (most recent call last)",
      "\u001b[1;32m/home/xiaoyun/Code/gaussian-splatting/Visualization/test_volviewer.ipynb Cell 1\u001b[0m line \u001b[0;36m2\n\u001b[1;32m      <a href='vscode-notebook-cell://ssh-remote%2B7b22686f73744e616d65223a225473696e676875615365727665722d383034227d/home/xiaoyun/Code/gaussian-splatting/Visualization/test_volviewer.ipynb#W0sdnNjb2RlLXJlbW90ZQ%3D%3D?line=0'>1</a>\u001b[0m \u001b[39mimport\u001b[39;00m \u001b[39mnumpy\u001b[39;00m \u001b[39mas\u001b[39;00m \u001b[39mnp\u001b[39;00m\n\u001b[0;32m----> <a href='vscode-notebook-cell://ssh-remote%2B7b22686f73744e616d65223a225473696e676875615365727665722d383034227d/home/xiaoyun/Code/gaussian-splatting/Visualization/test_volviewer.ipynb#W0sdnNjb2RlLXJlbW90ZQ%3D%3D?line=1'>2</a>\u001b[0m \u001b[39mimport\u001b[39;00m \u001b[39mipyvolume\u001b[39;00m \u001b[39mas\u001b[39;00m \u001b[39mipv\u001b[39;00m\n\u001b[1;32m      <a href='vscode-notebook-cell://ssh-remote%2B7b22686f73744e616d65223a225473696e676875615365727665722d383034227d/home/xiaoyun/Code/gaussian-splatting/Visualization/test_volviewer.ipynb#W0sdnNjb2RlLXJlbW90ZQ%3D%3D?line=2'>3</a>\u001b[0m V \u001b[39m=\u001b[39m np\u001b[39m.\u001b[39mzeros((\u001b[39m128\u001b[39m,\u001b[39m128\u001b[39m,\u001b[39m128\u001b[39m)) \u001b[39m# our 3d array\u001b[39;00m\n\u001b[1;32m      <a href='vscode-notebook-cell://ssh-remote%2B7b22686f73744e616d65223a225473696e676875615365727665722d383034227d/home/xiaoyun/Code/gaussian-splatting/Visualization/test_volviewer.ipynb#W0sdnNjb2RlLXJlbW90ZQ%3D%3D?line=3'>4</a>\u001b[0m \u001b[39m# outer box\u001b[39;00m\n",
      "File \u001b[0;32m~/anaconda3/envs/dlf/lib/python3.9/site-packages/ipyvolume/__init__.py:8\u001b[0m\n\u001b[1;32m      6\u001b[0m \u001b[39mfrom\u001b[39;00m \u001b[39mipyvolume\u001b[39;00m \u001b[39mimport\u001b[39;00m datasets  \u001b[39m# noqa: F401\u001b[39;00m\n\u001b[1;32m      7\u001b[0m \u001b[39mfrom\u001b[39;00m \u001b[39mipyvolume\u001b[39;00m \u001b[39mimport\u001b[39;00m embed  \u001b[39m# noqa: F401\u001b[39;00m\n\u001b[0;32m----> 8\u001b[0m \u001b[39mfrom\u001b[39;00m \u001b[39mipyvolume\u001b[39;00m\u001b[39m.\u001b[39;00m\u001b[39mwidgets\u001b[39;00m \u001b[39mimport\u001b[39;00m \u001b[39m*\u001b[39m  \u001b[39m# noqa: F401, F403\u001b[39;00m\n\u001b[1;32m      9\u001b[0m \u001b[39mfrom\u001b[39;00m \u001b[39mipyvolume\u001b[39;00m\u001b[39m.\u001b[39;00m\u001b[39mtransferfunction\u001b[39;00m \u001b[39mimport\u001b[39;00m \u001b[39m*\u001b[39m  \u001b[39m# noqa: F401, F403\u001b[39;00m\n\u001b[1;32m     10\u001b[0m \u001b[39mfrom\u001b[39;00m \u001b[39mipyvolume\u001b[39;00m\u001b[39m.\u001b[39;00m\u001b[39mpylab\u001b[39;00m \u001b[39mimport\u001b[39;00m \u001b[39m*\u001b[39m  \u001b[39m# noqa: F401, F403\u001b[39;00m\n",
      "File \u001b[0;32m~/anaconda3/envs/dlf/lib/python3.9/site-packages/ipyvolume/widgets.py:30\u001b[0m\n\u001b[1;32m     22\u001b[0m \u001b[39mfrom\u001b[39;00m \u001b[39mipyvolume\u001b[39;00m\u001b[39m.\u001b[39;00m\u001b[39mtraittypes\u001b[39;00m \u001b[39mimport\u001b[39;00m Image\n\u001b[1;32m     23\u001b[0m \u001b[39mfrom\u001b[39;00m \u001b[39mipyvolume\u001b[39;00m\u001b[39m.\u001b[39;00m\u001b[39mserialize\u001b[39;00m \u001b[39mimport\u001b[39;00m (\n\u001b[1;32m     24\u001b[0m     array_cube_tile_serialization,\n\u001b[1;32m     25\u001b[0m     array_serialization,\n\u001b[0;32m   (...)\u001b[0m\n\u001b[1;32m     28\u001b[0m     texture_serialization,\n\u001b[1;32m     29\u001b[0m )\n\u001b[0;32m---> 30\u001b[0m \u001b[39mfrom\u001b[39;00m \u001b[39mipyvolume\u001b[39;00m\u001b[39m.\u001b[39;00m\u001b[39mtransferfunction\u001b[39;00m \u001b[39mimport\u001b[39;00m TransferFunction\n\u001b[1;32m     31\u001b[0m \u001b[39mfrom\u001b[39;00m \u001b[39mipyvolume\u001b[39;00m\u001b[39m.\u001b[39;00m\u001b[39mutils\u001b[39;00m \u001b[39mimport\u001b[39;00m debounced, grid_slice, reduce_size\n\u001b[1;32m     34\u001b[0m _last_figure \u001b[39m=\u001b[39m \u001b[39mNone\u001b[39;00m\n",
      "File \u001b[0;32m~/anaconda3/envs/dlf/lib/python3.9/site-packages/ipyvolume/transferfunction.py:19\u001b[0m\n\u001b[1;32m     17\u001b[0m N \u001b[39m=\u001b[39m \u001b[39m1024\u001b[39m\n\u001b[1;32m     18\u001b[0m x \u001b[39m=\u001b[39m np\u001b[39m.\u001b[39mlinspace(\u001b[39m0\u001b[39m, \u001b[39m1\u001b[39m, N, endpoint\u001b[39m=\u001b[39m\u001b[39mTrue\u001b[39;00m)\n\u001b[0;32m---> 19\u001b[0m semver_range_frontend \u001b[39m=\u001b[39m \u001b[39m\"\u001b[39m\u001b[39m~\u001b[39m\u001b[39m\"\u001b[39m \u001b[39m+\u001b[39m ipyvolume\u001b[39m.\u001b[39;49m_version\u001b[39m.\u001b[39m__version_js__\n\u001b[1;32m     22\u001b[0m \u001b[39m@widgets\u001b[39m\u001b[39m.\u001b[39mregister\n\u001b[1;32m     23\u001b[0m \u001b[39mclass\u001b[39;00m \u001b[39mTransferFunction\u001b[39;00m(widgets\u001b[39m.\u001b[39mDOMWidget):\n\u001b[1;32m     24\u001b[0m     _model_name \u001b[39m=\u001b[39m Unicode(\u001b[39m'\u001b[39m\u001b[39mTransferFunctionModel\u001b[39m\u001b[39m'\u001b[39m)\u001b[39m.\u001b[39mtag(sync\u001b[39m=\u001b[39m\u001b[39mTrue\u001b[39;00m)\n",
      "\u001b[0;31mAttributeError\u001b[0m: partially initialized module 'ipyvolume' has no attribute '_version' (most likely due to a circular import)"
     ]
    }
   ],
   "source": [
    "import numpy as np\n",
    "import ipyvolume as ipv\n",
    "V = np.zeros((128,128,128)) # our 3d array\n",
    "# outer box\n",
    "V[30:-30,30:-30,30:-30] = 0.75\n",
    "V[35:-35,35:-35,35:-35] = 0.0\n",
    "# inner box\n",
    "V[50:-50,50:-50,50:-50] = 0.25\n",
    "V[55:-55,55:-55,55:-55] = 0.0\n",
    "\n",
    "ipv.figure()\n",
    "ipv.volshow(V, level=[0.25, 0.75], opacity=0.03, level_width=0.1, data_min=0, data_max=1)\n",
    "ipv.view(-30, 40)\n",
    "ipv.show()"
   ]
  }
 ],
 "metadata": {
  "kernelspec": {
   "display_name": "dlf",
   "language": "python",
   "name": "python3"
  },
  "language_info": {
   "codemirror_mode": {
    "name": "ipython",
    "version": 3
   },
   "file_extension": ".py",
   "mimetype": "text/x-python",
   "name": "python",
   "nbconvert_exporter": "python",
   "pygments_lexer": "ipython3",
   "version": "3.9.17"
  },
  "orig_nbformat": 4
 },
 "nbformat": 4,
 "nbformat_minor": 2
}
