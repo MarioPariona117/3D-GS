{
  "nbformat": 4,
  "nbformat_minor": 0,
  "metadata": {
    "colab": {
      "provenance": [],
      "mount_file_id": "1bL_mVWFq33iExye3uJ8_YtulO7kP4Waz",
      "authorship_tag": "ABX9TyMvh3Y+nMO3IfOU1ZWBWrj+",
      "include_colab_link": true
    },
    "kernelspec": {
      "name": "python3",
      "display_name": "Python 3"
    },
    "language_info": {
      "name": "python"
    }
  },
  "cells": [
    {
      "cell_type": "markdown",
      "metadata": {
        "id": "view-in-github",
        "colab_type": "text"
      },
      "source": [
        "<a href=\"https://colab.research.google.com/github/MarioPariona117/3D-GS/blob/main/main.ipynb\" target=\"_parent\"><img src=\"https://colab.research.google.com/assets/colab-badge.svg\" alt=\"Open In Colab\"/></a>"
      ]
    },
    {
      "cell_type": "code",
      "source": [
        "### If it's your first time in this notebook, run the following, with your own email"
      ],
      "metadata": {
        "id": "x5DpH7WOMA_g"
      },
      "execution_count": null,
      "outputs": []
    },
    {
      "cell_type": "code",
      "source": [
        "# !ssh-keygen -t rsa -b 4096 -C \"rt590@cam.ac.uk\" -f ~/.ssh/id_rsa -N \"\""
      ],
      "metadata": {
        "id": "NkS_XmWQh_qx"
      },
      "execution_count": null,
      "outputs": []
    },
    {
      "cell_type": "code",
      "source": [
        "# !cat ~/.ssh/id_rsa.pub\n",
        "# Copy this public key to your keys section in Github settings"
      ],
      "metadata": {
        "id": "GvC2H9wrkUSc"
      },
      "execution_count": null,
      "outputs": []
    },
    {
      "cell_type": "code",
      "source": [
        "!eval \"$(ssh-agent -s)\" && ssh-add ~/.ssh/id_rsa && ssh-add -l || echo \"SSH setup failed\""
      ],
      "metadata": {
        "colab": {
          "base_uri": "https://localhost:8080/"
        },
        "id": "miDsVkiTlW3W",
        "outputId": "c0d066a8-fac7-4344-d219-c7591324db63"
      },
      "execution_count": 7,
      "outputs": [
        {
          "output_type": "stream",
          "name": "stdout",
          "text": [
            "Agent pid 1856\n",
            "Identity added: /root/.ssh/id_rsa (rt590@cam.ac.uk)\n",
            "4096 SHA256:pFijRLbFRAaegBSqSPeESgGNqEDDp1OzSefnCpmpbuQ rt590@cam.ac.uk (RSA)\n"
          ]
        }
      ]
    },
    {
      "cell_type": "code",
      "source": [
        "# !ssh-keyscan -t rsa github.com >> ~/.ssh/known_hosts"
      ],
      "metadata": {
        "id": "GbarGMDOmlup"
      },
      "execution_count": null,
      "outputs": []
    },
    {
      "cell_type": "code",
      "source": [
        "# !cp -r ~/.ssh /content/drive/MyDrive/.ssh_backup"
      ],
      "metadata": {
        "id": "Q1UzvqtHS0JO"
      },
      "execution_count": 16,
      "outputs": []
    },
    {
      "cell_type": "code",
      "source": [
        "from google.colab import drive\n",
        "import os\n",
        "if not os.path.exists('/content/drive'):\n",
        "  drive.mount('/content/drive')\n",
        "\n",
        "!ls /content/drive/MyDrive/.ssh_backup\n",
        "\n",
        "!cp -r /content/drive/MyDrive/.ssh_backup/.ssh/* ~/.ssh\n",
        "!chmod 700 ~/.ssh\n",
        "!chmod 600 ~/.ssh/id_rsa\n",
        "!chmod 644 ~/.ssh/known_hosts\n",
        "\n",
        "# Start SSH agent and add the key\n",
        "!eval \"$(ssh-agent -s)\"\n",
        "!ssh-add ~/.ssh/id_rsa\n",
        "\n",
        "# Test SSH connection\n",
        "!ssh -T git@github.com"
      ],
      "metadata": {
        "id": "4meJ1tH2KSwd"
      },
      "execution_count": 15,
      "outputs": []
    },
    {
      "cell_type": "code",
      "source": [
        "!git clone git@github.com:MarioPariona117/3D-GS.git"
      ],
      "metadata": {
        "colab": {
          "base_uri": "https://localhost:8080/"
        },
        "id": "l3zM40Tpm9qn",
        "outputId": "b367bd5c-0da7-45b7-dc26-57222cf54f86"
      },
      "execution_count": 17,
      "outputs": [
        {
          "output_type": "stream",
          "name": "stdout",
          "text": [
            "Cloning into '3D-GS'...\n",
            "remote: Enumerating objects: 885, done.\u001b[K\n",
            "remote: Counting objects: 100% (839/839), done.\u001b[K\n",
            "remote: Compressing objects: 100% (396/396), done.\u001b[K\n",
            "remote: Total 885 (delta 459), reused 794 (delta 429), pack-reused 46 (from 1)\u001b[K\n",
            "Receiving objects: 100% (885/885), 78.73 MiB | 27.04 MiB/s, done.\n",
            "Resolving deltas: 100% (459/459), done.\n"
          ]
        }
      ]
    },
    {
      "cell_type": "code",
      "source": [
        "%cd 3D-GS"
      ],
      "metadata": {
        "id": "pq03-aqQo2Ip"
      },
      "execution_count": null,
      "outputs": []
    },
    {
      "cell_type": "code",
      "source": [
        "!git pull"
      ],
      "metadata": {
        "id": "JyiHvYMBo9EW"
      },
      "execution_count": null,
      "outputs": []
    },
    {
      "cell_type": "code",
      "source": [
        "# !git checkout -b \"Your branch\"\n",
        "\n",
        "# !git config --global user.email \"crsid@cam.ac.uk\"\n",
        "# !git config --global user.name \"Username\"\n",
        "\n",
        "!git checkout \"Leo\"\n",
        "!git add .\n",
        "!git commit -m \"COLAB: Test\"\n",
        "\n",
        "# !git push --set-upstream origin Branch\n",
        "!git push"
      ],
      "metadata": {
        "id": "UfO8WcAmo-wV"
      },
      "execution_count": null,
      "outputs": []
    },
    {
      "cell_type": "code",
      "source": [
        "# !git add .\n",
        "# !git commit -m \"COLAB: ...\"\n",
        "# !git push"
      ],
      "metadata": {
        "id": "D82bDUF9h2Cx"
      },
      "execution_count": null,
      "outputs": []
    },
    {
      "cell_type": "code",
      "source": [],
      "metadata": {
        "id": "gJlnMgBBoMhl"
      },
      "execution_count": null,
      "outputs": []
    }
  ]
}