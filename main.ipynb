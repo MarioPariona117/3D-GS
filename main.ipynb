{
  "cells": [
    {
      "cell_type": "markdown",
      "metadata": {
        "id": "view-in-github",
        "colab_type": "text"
      },
      "source": [
        "<a href=\"https://colab.research.google.com/github/MarioPariona117/3D-GS/blob/eLc4r_test4/main.ipynb\" target=\"_parent\"><img src=\"https://colab.research.google.com/assets/colab-badge.svg\" alt=\"Open In Colab\"/></a>"
      ]
    },
    {
      "cell_type": "code",
      "execution_count": null,
      "metadata": {
        "id": "x5DpH7WOMA_g"
      },
      "outputs": [],
      "source": [
        "### If it's your first time in this notebook, run the following, with your own email"
      ]
    },
    {
      "cell_type": "code",
      "execution_count": null,
      "metadata": {
        "id": "NkS_XmWQh_qx"
      },
      "outputs": [],
      "source": [
        "# !ssh-keygen -t rsa -b 4096 -C \"rt590@cam.ac.uk\" -f ~/.ssh/id_rsa -N \"\""
      ]
    },
    {
      "cell_type": "code",
      "execution_count": null,
      "metadata": {
        "id": "GvC2H9wrkUSc"
      },
      "outputs": [],
      "source": [
        "# !cat ~/.ssh/id_rsa.pub\n",
        "# Copy this public key to your keys section in Github settings"
      ]
    },
    {
      "cell_type": "code",
      "execution_count": null,
      "metadata": {
        "id": "miDsVkiTlW3W"
      },
      "outputs": [],
      "source": [
        "# !eval \"$(ssh-agent -s)\" && ssh-add ~/.ssh/id_rsa && ssh-add -l || echo \"SSH setup failed\""
      ]
    },
    {
      "cell_type": "code",
      "execution_count": null,
      "metadata": {
        "id": "GbarGMDOmlup"
      },
      "outputs": [],
      "source": [
        "# !ssh-keyscan -t rsa github.com >> ~/.ssh/known_hosts"
      ]
    },
    {
      "cell_type": "code",
      "execution_count": null,
      "metadata": {
        "id": "Q1UzvqtHS0JO"
      },
      "outputs": [],
      "source": [
        "# !cp -r ~/.ssh /content/drive/MyDrive/.ssh_backup"
      ]
    },
    {
      "cell_type": "code",
      "execution_count": null,
      "metadata": {
        "colab": {
          "base_uri": "https://localhost:8080/"
        },
        "id": "4meJ1tH2KSwd",
        "outputId": "b5fd70da-8582-4662-f2f9-ce8627e7e751"
      },
      "outputs": [
        {
          "output_type": "stream",
          "name": "stdout",
          "text": [
            "Agent pid 2798\n",
            "Could not open a connection to your authentication agent.\n",
            "Hi Ryuichi-Student! You've successfully authenticated, but GitHub does not provide shell access.\n"
          ]
        }
      ],
      "source": [
        "from google.colab import drive\n",
        "import os\n",
        "if not os.path.exists('/content/drive'):\n",
        "  drive.mount('/content/drive')\n",
        "\n",
        "!ls /content/drive/MyDrive/.ssh_backup\n",
        "\n",
        "!mkdir -p ~/.ssh\n",
        "!cp -r /content/drive/MyDrive/.ssh_backup/.ssh/* ~/.ssh\n",
        "!chmod 700 ~/.ssh\n",
        "!chmod 600 ~/.ssh/id_rsa\n",
        "!chmod 644 ~/.ssh/known_hosts\n",
        "\n",
        "# Start SSH agent and add the key\n",
        "!eval \"$(ssh-agent -s)\"\n",
        "!ssh-add ~/.ssh/id_rsa\n",
        "\n",
        "# Test SSH connection\n",
        "!ssh -T git@github.com"
      ]
    },
    {
      "cell_type": "code",
      "execution_count": null,
      "metadata": {
        "collapsed": true,
        "id": "0YiIK6612yvg"
      },
      "outputs": [],
      "source": [
        "%cd /content\n",
        "# Replace with your own fork of the repository\n",
        "!git clone --recursive git@github.com:MarioPariona117/3D-GS.git\n",
        "!pip install -q plyfile\n",
        "\n",
        "%cd /content/3D-GS\n",
        "!pip install -q submodules/diff-gaussian-rasterisation\n",
        "!pip install -q submodules/simple-knn"
      ]
    },
    {
      "cell_type": "code",
      "execution_count": null,
      "metadata": {
        "collapsed": true,
        "id": "0p326o48BORL"
      },
      "outputs": [],
      "source": [
        "# Download the latest version of NeRF-LLF\n",
        "import kagglehub\n",
        "\n",
        "bp=\"/content\"\n",
        "\n",
        "path = kagglehub.dataset_download(\"olwenyu/nerf-llff\")\n",
        "\n",
        "print(\"Path to dataset files:\", path)\n",
        "!mv $path $bp"
      ]
    },
    {
      "cell_type": "code",
      "execution_count": null,
      "metadata": {
        "id": "Gl9HAburbdfW"
      },
      "outputs": [],
      "source": [
        "# A100 is approx 3 times faster than T4 (15 minutes vs 49)\n",
        "%cd /content/3D-GS\n",
        "!python train.py -s /content/1/nerf_llff_fewshot_resize/trex --test_iterations 1_000 12_000 18_000 30_000"
      ]
    },
    {
      "cell_type": "code",
      "execution_count": null,
      "metadata": {
        "id": "gJlnMgBBoMhl"
      },
      "outputs": [],
      "source": [
        "# Save to and load from Google Colab\n",
        "!mkdir -p /content/drive/MyDrive/saved_models\n",
        "!cp -r output/* /content/drive/MyDrive/saved_models/\n",
        "\n",
        "!mkdir -p saved_output\n",
        "!cp -r /content/drive/MyDrive/saved_models/* saved_output"
      ]
    },
    {
      "cell_type": "code",
      "execution_count": null,
      "metadata": {
        "id": "uGRdbGBLEGnQ",
        "colab": {
          "base_uri": "https://localhost:8080/"
        },
        "outputId": "7f096e89-f234-4be6-cbc8-f60aa3d28fdc"
      },
      "outputs": [
        {
          "output_type": "stream",
          "name": "stdout",
          "text": [
            "Looking for config file in saved_output/66597c40-8/cfg_args\n",
            "Config file found: saved_output/66597c40-8/cfg_args\n",
            "Rendering saved_output/66597c40-8\n",
            "Loading trained model at iteration 30000 [07/12 17:50:19]\n",
            "Reading camera 301/301 [07/12 17:50:20]\n",
            "Loading Training Cameras [07/12 17:50:20]\n",
            "Loading Test Cameras [07/12 17:50:25]\n",
            "Using 12 threads for rendering [07/12 17:50:31]\n",
            "Rendering progress: 100% 301/301 [00:17<00:00, 17.41it/s]\n",
            "Looking for config file in saved_output/9f598e1d-f/cfg_args\n",
            "Config file found: saved_output/9f598e1d-f/cfg_args\n",
            "Rendering saved_output/9f598e1d-f\n",
            "Loading trained model at iteration 30000 [07/12 17:50:51]\n",
            "Reading camera 301/301 [07/12 17:50:53]\n",
            "Loading Training Cameras [07/12 17:50:53]\n",
            "Loading Test Cameras [07/12 17:50:57]\n",
            "Using 12 threads for rendering [07/12 17:50:59]\n",
            "Rendering progress: 100% 301/301 [00:17<00:00, 17.66it/s]\n"
          ]
        }
      ],
      "source": [
        "# Replace with your output.\n",
        "!python render.py -m saved_output/66597c40-8"
      ]
    },
    {
      "cell_type": "code",
      "execution_count": null,
      "metadata": {
        "colab": {
          "background_save": true
        },
        "id": "CUaJQ6UJE0HE"
      },
      "outputs": [],
      "source": [
        "# Display the rendered image. train data will look much better than test\n",
        "from IPython.display import Image, display\n",
        "\n",
        "saved_model = \"66597c40-8\"\n",
        "dataset = \"test\"\n",
        "saved_iters = 30000\n",
        "png = \"00005.png\"\n",
        "\n",
        "gt_path = f'saved_output/{saved_model}/{dataset}/ours_{saved_iters}/gt/{png}'\n",
        "render_path = f'saved_output/{saved_model}/{dataset}/ours_{saved_iters}/renders/{png}'\n",
        "\n",
        "print(\"Ground Truth Image:\")\n",
        "display(Image(filename=gt_path))\n",
        "\n",
        "print(\"\\nRendered Image:\")\n",
        "display(Image(filename=render_path))"
      ]
    }
  ],
  "metadata": {
    "accelerator": "GPU",
    "colab": {
      "gpuType": "L4",
      "machine_shape": "hm",
      "provenance": [],
      "mount_file_id": "1bL_mVWFq33iExye3uJ8_YtulO7kP4Waz",
      "authorship_tag": "ABX9TyMpgl2toUzB6FDrxUqjDsz9",
      "include_colab_link": true
    },
    "kernelspec": {
      "display_name": "Python 3",
      "name": "python3"
    },
    "language_info": {
      "name": "python"
    }
  },
  "nbformat": 4,
  "nbformat_minor": 0
}