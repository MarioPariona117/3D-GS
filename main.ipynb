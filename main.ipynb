{
  "nbformat": 4,
  "nbformat_minor": 0,
  "metadata": {
    "colab": {
      "provenance": [],
      "mount_file_id": "1bL_mVWFq33iExye3uJ8_YtulO7kP4Waz",
      "authorship_tag": "ABX9TyPJrxG3Ib+BLPWYSyfLqQgu",
      "include_colab_link": true
    },
    "kernelspec": {
      "name": "python3",
      "display_name": "Python 3"
    },
    "language_info": {
      "name": "python"
    }
  },
  "cells": [
    {
      "cell_type": "markdown",
      "metadata": {
        "id": "view-in-github",
        "colab_type": "text"
      },
      "source": [
        "<a href=\"https://colab.research.google.com/github/MarioPariona117/3D-GS/blob/main/main.ipynb\" target=\"_parent\"><img src=\"https://colab.research.google.com/assets/colab-badge.svg\" alt=\"Open In Colab\"/></a>"
      ]
    },
    {
      "cell_type": "code",
      "source": [
        "### If it's your first time in this notebook, run the following, with your own email"
      ],
      "metadata": {
        "id": "x5DpH7WOMA_g"
      },
      "execution_count": null,
      "outputs": []
    },
    {
      "cell_type": "code",
      "source": [
        "# !ssh-keygen -t rsa -b 4096 -C \"rt590@cam.ac.uk\" -f ~/.ssh/id_rsa -N \"\""
      ],
      "metadata": {
        "colab": {
          "base_uri": "https://localhost:8080/"
        },
        "id": "NkS_XmWQh_qx",
        "outputId": "67c3aee4-f589-4ae1-c594-a346aad9aeeb"
      },
      "execution_count": 9,
      "outputs": [
        {
          "output_type": "stream",
          "name": "stdout",
          "text": [
            "Generating public/private rsa key pair.\n",
            "/root/.ssh/id_rsa already exists.\n",
            "Overwrite (y/n)? n\n"
          ]
        }
      ]
    },
    {
      "cell_type": "code",
      "source": [
        "# !cat ~/.ssh/id_rsa.pub\n",
        "# Copy this public key to your keys section in Github settings"
      ],
      "metadata": {
        "colab": {
          "base_uri": "https://localhost:8080/"
        },
        "id": "GvC2H9wrkUSc",
        "outputId": "7d486abc-0dd0-49da-ea4f-7f69d69fa656"
      },
      "execution_count": 10,
      "outputs": [
        {
          "output_type": "stream",
          "name": "stdout",
          "text": [
            "ssh-rsa AAAAB3NzaC1yc2EAAAADAQABAAACAQCkmvtMoMiVYz2Y+Wa8kTUURAmXG1yTcobo6/fe6+xTD8SKdseeE6XxgRWXJomTiLrf0/USLBqNMRpKFsR8SIwDxL2P8FX+O67TE0Mm0bKbfQIS4jahNupZVeDOSqTfRKFpBw+JYui1KdDl1YR9NOzDtZTuovKt8fA/J7z3nbzB7nvoVkFytyor8+UU7nT0luxHGjNH3xpCdYjwzSwlShWBh0Dexvtxx7rLftXCRbHX4yv3MyXojO1vsc4FXYpoIwMGe/rHcTVGPXsy1uVyS5Zga0KLmS9ZrutXkPRDRymD+HYnwmescx+VHT8Cv+AUxjG5Nc7PwYdNjMrvjuGSMLbmhqd+CKI9z4bFfLeRjxEJyAVJP2jr7uCCdsh1OSZtJAygKBeeH86gxOcadUMdQy2EM204oBYm29+3nkTQEH/4pocYVu6wFFR/XFXCxKLxWADzcOj8FJTi5rOVyOO6XsPaspc5JMDmSwNbIaWGPMKKirvm7yU/QNpJga+rNFeNlacdL1GwcfBoRq1QsKZJ+Z0HgeW5pxGwOvJeMCWMi20jJgcu2EJbXbbJqXlRfgl2Xqw5ndZEeZK7+W+QsIWtoTR7V3+CUFzmPyvaup7ElQv7dMoSxitEBMCMlrDhMjOvGm6nELCMAFPRYYrUjHeLO4EKgSE/kQd4HJplslkARXdFNQ== rt590@cam.ac.uk\n"
          ]
        }
      ]
    },
    {
      "cell_type": "code",
      "source": [
        "# !eval \"$(ssh-agent -s)\" && ssh-add ~/.ssh/id_rsa && ssh-add -l || echo \"SSH setup failed\""
      ],
      "metadata": {
        "colab": {
          "base_uri": "https://localhost:8080/"
        },
        "id": "miDsVkiTlW3W",
        "outputId": "f594e2b6-6b23-4bd7-eac4-dfd9d3c1838e"
      },
      "execution_count": 11,
      "outputs": [
        {
          "output_type": "stream",
          "name": "stdout",
          "text": [
            "Agent pid 4142\n",
            "Identity added: /root/.ssh/id_rsa (rt590@cam.ac.uk)\n",
            "4096 SHA256:WwtyNSl9UA4FgpzVGebhAR/dBGl3h8bfN69VeKriLaw rt590@cam.ac.uk (RSA)\n"
          ]
        }
      ]
    },
    {
      "cell_type": "code",
      "source": [
        "# !ssh-keyscan -t rsa github.com >> ~/.ssh/known_hosts"
      ],
      "metadata": {
        "colab": {
          "base_uri": "https://localhost:8080/"
        },
        "id": "GbarGMDOmlup",
        "outputId": "8c526d9d-d80f-47f4-ecfd-ae62f67611a3"
      },
      "execution_count": 15,
      "outputs": [
        {
          "output_type": "stream",
          "name": "stdout",
          "text": [
            "# github.com:22 SSH-2.0-babeld-2b739aa97\n"
          ]
        }
      ]
    },
    {
      "cell_type": "code",
      "source": [
        "from google.colab import drive\n",
        "import os\n",
        "if not os.path.exists('/content/drive'):\n",
        "  drive.mount('/content/drive')\n",
        "\n",
        "!ls /content/drive/MyDrive/.ssh_backup\n",
        "\n",
        "!cp -r /content/drive/MyDrive/.ssh_backup ~/.ssh\n",
        "!chmod 700 ~/.ssh\n",
        "!chmod 600 ~/.ssh/id_rsa\n",
        "!chmod 644 ~/.ssh/known_hosts\n",
        "\n",
        "# Start SSH agent and add the key\n",
        "!eval \"$(ssh-agent -s)\"\n",
        "!ssh-add ~/.ssh/id_rsa\n",
        "\n",
        "# Test SSH connection\n",
        "!ssh -T git@github.com"
      ],
      "metadata": {
        "id": "4meJ1tH2KSwd"
      },
      "execution_count": 16,
      "outputs": []
    },
    {
      "cell_type": "code",
      "source": [
        "!git clone git@github.com:MarioPariona117/3D-GS.git"
      ],
      "metadata": {
        "colab": {
          "base_uri": "https://localhost:8080/"
        },
        "id": "l3zM40Tpm9qn",
        "outputId": "e580589b-5e67-474b-b7eb-bf8762076b5e"
      },
      "execution_count": 20,
      "outputs": [
        {
          "output_type": "stream",
          "name": "stdout",
          "text": [
            "Cloning into '3D-GS'...\n",
            "remote: Enumerating objects: 877, done.\u001b[K\n",
            "remote: Counting objects: 100% (831/831), done.\u001b[K\n",
            "remote: Compressing objects: 100% (390/390), done.\u001b[K\n",
            "remote: Total 877 (delta 455), reused 791 (delta 428), pack-reused 46 (from 1)\u001b[K\n",
            "Receiving objects: 100% (877/877), 78.73 MiB | 33.51 MiB/s, done.\n",
            "Resolving deltas: 100% (455/455), done.\n"
          ]
        }
      ]
    },
    {
      "cell_type": "code",
      "source": [
        "%cd 3D-GS"
      ],
      "metadata": {
        "colab": {
          "base_uri": "https://localhost:8080/"
        },
        "id": "pq03-aqQo2Ip",
        "outputId": "435fd473-54ad-4f77-bdb9-4f5b87535fe6"
      },
      "execution_count": 21,
      "outputs": [
        {
          "output_type": "stream",
          "name": "stdout",
          "text": [
            "/content/3D-GS\n"
          ]
        }
      ]
    },
    {
      "cell_type": "code",
      "source": [
        "!git pull"
      ],
      "metadata": {
        "colab": {
          "base_uri": "https://localhost:8080/"
        },
        "id": "JyiHvYMBo9EW",
        "outputId": "535b4e48-86db-4869-aff4-37da593385c8"
      },
      "execution_count": 22,
      "outputs": [
        {
          "output_type": "stream",
          "name": "stdout",
          "text": [
            "Already up to date.\n"
          ]
        }
      ]
    },
    {
      "cell_type": "code",
      "source": [
        "# !git checkout -b \"Your branch\"\n",
        "\n",
        "# !git config --global user.email \"crsid@cam.ac.uk\"\n",
        "# !git config --global user.name \"Username\"\n",
        "\n",
        "!git checkout \"Leo\"\n",
        "!git add .\n",
        "!git commit -m \"COLAB: Test\"\n",
        "\n",
        "# !git push --set-upstream origin Branch\n",
        "!git push"
      ],
      "metadata": {
        "colab": {
          "base_uri": "https://localhost:8080/"
        },
        "id": "UfO8WcAmo-wV",
        "outputId": "973f9bfd-1206-4826-b650-7f8edc25b05a"
      },
      "execution_count": 26,
      "outputs": [
        {
          "output_type": "stream",
          "name": "stdout",
          "text": [
            "Already on 'Leo'\n",
            "Your branch is up to date with 'origin/Leo'.\n",
            "On branch Leo\n",
            "Your branch is up to date with 'origin/Leo'.\n",
            "\n",
            "nothing to commit, working tree clean\n",
            "Everything up-to-date\n"
          ]
        }
      ]
    },
    {
      "cell_type": "code",
      "source": [
        "# !git add .\n",
        "# !git commit -m \"COLAB: ...\"\n",
        "# !git push"
      ],
      "metadata": {
        "id": "D82bDUF9h2Cx"
      },
      "execution_count": null,
      "outputs": []
    },
    {
      "cell_type": "code",
      "source": [],
      "metadata": {
        "id": "gJlnMgBBoMhl"
      },
      "execution_count": null,
      "outputs": []
    }
  ]
}