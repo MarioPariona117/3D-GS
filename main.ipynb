{
  "cells": [
    {
      "cell_type": "markdown",
      "metadata": {
        "id": "view-in-github",
        "colab_type": "text"
      },
      "source": [
        "<a href=\"https://colab.research.google.com/github/MarioPariona117/3D-GS/blob/main/main.ipynb\" target=\"_parent\"><img src=\"https://colab.research.google.com/assets/colab-badge.svg\" alt=\"Open In Colab\"/></a>"
      ]
    },
    {
      "cell_type": "markdown",
      "source": [
        "## 3D Gaussian Splatting with Evolutive Primitive Organisation\n",
        "\n",
        "Run this on a T4, L4 or A100 instance. A100 is recommended for speed, while the T4 is recommended for cost efficiency. The code cannot be run without a CUDA enabled GPU."
      ],
      "metadata": {
        "id": "kYLHNZ7NTOrA"
      }
    },
    {
      "cell_type": "code",
      "execution_count": null,
      "metadata": {
        "id": "x5DpH7WOMA_g"
      },
      "outputs": [],
      "source": [
        "### If it's your first time in this notebook, run the following, with your own email"
      ]
    },
    {
      "cell_type": "code",
      "execution_count": null,
      "metadata": {
        "id": "NkS_XmWQh_qx"
      },
      "outputs": [],
      "source": [
        "# !ssh-keygen -t rsa -b 4096 -C \"rt590@cam.ac.uk\" -f ~/.ssh/id_rsa -N \"\""
      ]
    },
    {
      "cell_type": "code",
      "execution_count": null,
      "metadata": {
        "id": "GvC2H9wrkUSc"
      },
      "outputs": [],
      "source": [
        "# !cat ~/.ssh/id_rsa.pub\n",
        "# Copy this public key to your keys section in Github settings"
      ]
    },
    {
      "cell_type": "code",
      "execution_count": null,
      "metadata": {
        "id": "miDsVkiTlW3W"
      },
      "outputs": [],
      "source": [
        "# !eval \"$(ssh-agent -s)\" && ssh-add ~/.ssh/id_rsa && ssh-add -l || echo \"SSH setup failed\""
      ]
    },
    {
      "cell_type": "code",
      "execution_count": null,
      "metadata": {
        "id": "GbarGMDOmlup"
      },
      "outputs": [],
      "source": [
        "# !ssh-keyscan -t rsa github.com >> ~/.ssh/known_hosts"
      ]
    },
    {
      "cell_type": "code",
      "execution_count": null,
      "metadata": {
        "id": "Q1UzvqtHS0JO"
      },
      "outputs": [],
      "source": [
        "# !cp -r ~/.ssh /content/drive/MyDrive/.ssh_backup"
      ]
    },
    {
      "cell_type": "code",
      "execution_count": 6,
      "metadata": {
        "colab": {
          "base_uri": "https://localhost:8080/"
        },
        "id": "4meJ1tH2KSwd",
        "outputId": "3a8b7758-f54b-4674-9fd7-1c566047157e"
      },
      "outputs": [
        {
          "output_type": "stream",
          "name": "stdout",
          "text": [
            "id_rsa\tid_rsa.pub  known_hosts\n",
            "Agent pid 3455\n",
            "Could not open a connection to your authentication agent.\n",
            "Hi Ryuichi-Student! You've successfully authenticated, but GitHub does not provide shell access.\n"
          ]
        }
      ],
      "source": [
        "from google.colab import drive\n",
        "import os\n",
        "if not os.path.exists('/content/drive'):\n",
        "  drive.mount('/content/drive')\n",
        "\n",
        "!ls /content/drive/MyDrive/.ssh_backup\n",
        "\n",
        "!mkdir -p ~/.ssh\n",
        "!cp -r /content/drive/MyDrive/.ssh_backup/* ~/.ssh\n",
        "!chmod 700 ~/.ssh\n",
        "!chmod 600 ~/.ssh/id_rsa\n",
        "!chmod 644 ~/.ssh/known_hosts\n",
        "\n",
        "# Start SSH agent and add the key\n",
        "!eval \"$(ssh-agent -s)\"\n",
        "!ssh-add ~/.ssh/id_rsa\n",
        "\n",
        "# Test SSH connection\n",
        "!ssh -T git@github.com"
      ]
    },
    {
      "cell_type": "code",
      "execution_count": 7,
      "metadata": {
        "collapsed": true,
        "id": "0YiIK6612yvg",
        "outputId": "d1068868-2a06-47e1-fe52-435f6696e1c5",
        "colab": {
          "base_uri": "https://localhost:8080/"
        }
      },
      "outputs": [
        {
          "output_type": "stream",
          "name": "stdout",
          "text": [
            "/content\n",
            "Cloning into '3D-GS'...\n",
            "remote: Enumerating objects: 3684, done.\u001b[K\n",
            "remote: Counting objects: 100% (962/962), done.\u001b[K\n",
            "remote: Compressing objects: 100% (301/301), done.\u001b[K\n",
            "remote: Total 3684 (delta 685), reused 877 (delta 627), pack-reused 2722 (from 1)\u001b[K\n",
            "Receiving objects: 100% (3684/3684), 891.50 MiB | 10.18 MiB/s, done.\n",
            "Resolving deltas: 100% (1825/1825), done.\n",
            "Submodule 'SIBR_viewers' (https://gitlab.inria.fr/sibr/sibr_core.git) registered for path 'sibr_core'\n",
            "Submodule 'submodules/diff-gaussian-rasterisation' (https://github.com/graphdeco-inria/diff-gaussian-rasterization.git) registered for path 'submodules/diff-gaussian-rasterisation'\n",
            "Submodule 'submodules/fused-ssim' (https://github.com/rahul-goel/fused-ssim.git) registered for path 'submodules/fused-ssim'\n",
            "Submodule 'submodules/simple-knn' (https://gitlab.inria.fr/bkerbl/simple-knn.git) registered for path 'submodules/simple-knn'\n",
            "Cloning into '/content/3D-GS/sibr_core'...\n",
            "remote: Enumerating objects: 3270, done.        \n",
            "remote: Counting objects: 100% (299/299), done.        \n",
            "remote: Compressing objects: 100% (164/164), done.        \n",
            "remote: Total 3270 (delta 157), reused 259 (delta 135), pack-reused 2971 (from 1)        \n",
            "Receiving objects: 100% (3270/3270), 9.97 MiB | 5.50 MiB/s, done.\n",
            "Resolving deltas: 100% (2025/2025), done.\n",
            "Cloning into '/content/3D-GS/submodules/diff-gaussian-rasterisation'...\n",
            "remote: Enumerating objects: 329, done.        \n",
            "remote: Counting objects: 100% (189/189), done.        \n",
            "remote: Compressing objects: 100% (53/53), done.        \n",
            "remote: Total 329 (delta 161), reused 136 (delta 136), pack-reused 140 (from 1)        \n",
            "Receiving objects: 100% (329/329), 126.11 KiB | 1.50 MiB/s, done.\n",
            "Resolving deltas: 100% (210/210), done.\n",
            "Cloning into '/content/3D-GS/submodules/fused-ssim'...\n",
            "remote: Enumerating objects: 89, done.        \n",
            "remote: Counting objects: 100% (89/89), done.        \n",
            "remote: Compressing objects: 100% (65/65), done.        \n",
            "remote: Total 89 (delta 43), reused 56 (delta 20), pack-reused 0 (from 0)        \n",
            "Receiving objects: 100% (89/89), 3.66 MiB | 12.49 MiB/s, done.\n",
            "Resolving deltas: 100% (43/43), done.\n",
            "Cloning into '/content/3D-GS/submodules/simple-knn'...\n",
            "remote: Enumerating objects: 37, done.        \n",
            "remote: Counting objects: 100% (37/37), done.        \n",
            "remote: Compressing objects: 100% (34/34), done.        \n",
            "remote: Total 37 (delta 18), reused 0 (delta 0), pack-reused 0 (from 0)        \n",
            "Receiving objects: 100% (37/37), 9.41 KiB | 9.41 MiB/s, done.\n",
            "Resolving deltas: 100% (18/18), done.\n",
            "Submodule path 'sibr_core': checked out '0103f7fd75deb0f392c339c74a4ec1cf728e31d1'\n",
            "Submodule path 'submodules/diff-gaussian-rasterisation': checked out '9c5c2028f6fbee2be239bc4c9421ff894fe4fbe0'\n",
            "Submodule 'third_party/glm' (https://github.com/g-truc/glm.git) registered for path 'submodules/diff-gaussian-rasterisation/third_party/glm'\n",
            "Cloning into '/content/3D-GS/submodules/diff-gaussian-rasterisation/third_party/glm'...\n",
            "remote: Enumerating objects: 59615, done.        \n",
            "remote: Counting objects: 100% (5/5), done.        \n",
            "remote: Compressing objects: 100% (4/4), done.        \n",
            "remote: Total 59615 (delta 0), reused 3 (delta 0), pack-reused 59610 (from 1)        \n",
            "Receiving objects: 100% (59615/59615), 71.20 MiB | 15.41 MiB/s, done.\n",
            "Resolving deltas: 100% (45208/45208), done.\n",
            "Submodule path 'submodules/diff-gaussian-rasterisation/third_party/glm': checked out '5c46b9c07008ae65cb81ab79cd677ecc1934b903'\n",
            "Submodule path 'submodules/fused-ssim': checked out '1272e21a282342e89537159e4bad508b19b34157'\n",
            "Submodule path 'submodules/simple-knn': checked out '86710c2d4b46680c02301765dd79e465819c8f19'\n",
            "/content/3D-GS\n",
            "  Preparing metadata (setup.py) ... \u001b[?25l\u001b[?25hdone\n",
            "  Building wheel for diff_gaussian_rasterization (setup.py) ... \u001b[?25l\u001b[?25hdone\n",
            "  Preparing metadata (setup.py) ... \u001b[?25l\u001b[?25hdone\n",
            "  Building wheel for simple_knn (setup.py) ... \u001b[?25l\u001b[?25hdone\n"
          ]
        }
      ],
      "source": [
        "%cd /content\n",
        "# Replace with your own fork of the repository\n",
        "!git clone --recursive git@github.com:MarioPariona117/3D-GS.git\n",
        "!pip install -q plyfile\n",
        "\n",
        "%cd /content/3D-GS\n",
        "!pip install -q submodules/diff-gaussian-rasterisation\n",
        "!pip install -q submodules/simple-knn"
      ]
    },
    {
      "cell_type": "code",
      "execution_count": 3,
      "metadata": {
        "collapsed": true,
        "id": "0p326o48BORL",
        "outputId": "d19ef81d-e0a8-486b-dae4-9289b9650334",
        "colab": {
          "base_uri": "https://localhost:8080/"
        }
      },
      "outputs": [
        {
          "output_type": "stream",
          "name": "stdout",
          "text": [
            "Downloading from https://www.kaggle.com/api/v1/datasets/download/olwenyu/nerf-llff?dataset_version_number=1...\n"
          ]
        },
        {
          "output_type": "stream",
          "name": "stderr",
          "text": [
            "100%|██████████| 2.27G/2.27G [01:46<00:00, 22.9MB/s]"
          ]
        },
        {
          "output_type": "stream",
          "name": "stdout",
          "text": [
            "Extracting files...\n"
          ]
        },
        {
          "output_type": "stream",
          "name": "stderr",
          "text": [
            "\n"
          ]
        },
        {
          "output_type": "stream",
          "name": "stdout",
          "text": [
            "Path to dataset files: /root/.cache/kagglehub/datasets/olwenyu/nerf-llff/versions/1\n"
          ]
        }
      ],
      "source": [
        "# Download the latest version of NeRF-LLF\n",
        "import kagglehub\n",
        "\n",
        "bp=\"/content\"\n",
        "\n",
        "path = kagglehub.dataset_download(\"olwenyu/nerf-llff\")\n",
        "\n",
        "print(\"Path to dataset files:\", path)\n",
        "!mv $path $bp"
      ]
    },
    {
      "cell_type": "code",
      "execution_count": null,
      "metadata": {
        "id": "Gl9HAburbdfW",
        "outputId": "4874e643-11ea-4fc6-b232-d6ecb940d40f",
        "colab": {
          "base_uri": "https://localhost:8080/"
        }
      },
      "outputs": [
        {
          "output_type": "stream",
          "name": "stdout",
          "text": [
            "/content/3D-GS\n",
            "2024-12-13 13:52:58.537739: E external/local_xla/xla/stream_executor/cuda/cuda_fft.cc:485] Unable to register cuFFT factory: Attempting to register factory for plugin cuFFT when one has already been registered\n",
            "2024-12-13 13:52:58.557825: E external/local_xla/xla/stream_executor/cuda/cuda_dnn.cc:8454] Unable to register cuDNN factory: Attempting to register factory for plugin cuDNN when one has already been registered\n",
            "2024-12-13 13:52:58.563669: E external/local_xla/xla/stream_executor/cuda/cuda_blas.cc:1452] Unable to register cuBLAS factory: Attempting to register factory for plugin cuBLAS when one has already been registered\n",
            "2024-12-13 13:52:58.578041: I tensorflow/core/platform/cpu_feature_guard.cc:210] This TensorFlow binary is optimized to use available CPU instructions in performance-critical operations.\n",
            "To enable the following instructions: AVX2 FMA, in other operations, rebuild TensorFlow with the appropriate compiler flags.\n",
            "2024-12-13 13:52:59.578261: W tensorflow/compiler/tf2tensorrt/utils/py_utils.cc:38] TF-TRT Warning: Could not find TensorRT\n",
            "Optimizing \n",
            "Output folder: ./output/00b0e0f4-9 [13/12 13:53:01]\n",
            "Reading camera 41/41 [13/12 13:53:01]\n",
            "Converting point3d.bin to .ply, will happen only the first time you open the scene. [13/12 13:53:01]\n",
            "Loading Training Cameras [13/12 13:53:01]\n",
            "Loading Test Cameras [13/12 13:53:03]\n",
            "Number of points at initialisation :  41775 [13/12 13:53:03]\n",
            "Training progress:   3% 1000/30000 [01:16<31:52, 15.16it/s, Loss=0.0255497, Depth Loss=0.0000000]\n",
            "[ITER 1000] Evaluating train: L1 0.01610038708895445 PSNR 30.92667350769043 [13/12 13:54:26]\n",
            "Training progress:  11% 3340/30000 [04:02<20:02, 22.18it/s, Loss=0.0573014, Depth Loss=0.0000000]"
          ]
        }
      ],
      "source": [
        "# A100 is approx 3 times faster than T4 (15 minutes vs 49)\n",
        "%cd /content/3D-GS\n",
        "!python train.py -s /content/1/nerf_llff_fewshot_resize/room --test_iterations 1_000 12_000 18_000 30_000"
      ]
    },
    {
      "cell_type": "code",
      "execution_count": null,
      "metadata": {
        "id": "gJlnMgBBoMhl"
      },
      "outputs": [],
      "source": [
        "# Save to and load from Google Colab\n",
        "!mkdir -p /content/drive/MyDrive/saved_models\n",
        "!cp -r output/* /content/drive/MyDrive/saved_models/\n",
        "\n",
        "!mkdir -p saved_output\n",
        "!cp -r /content/drive/MyDrive/saved_models/* saved_output"
      ]
    },
    {
      "cell_type": "code",
      "execution_count": null,
      "metadata": {
        "id": "uGRdbGBLEGnQ",
        "colab": {
          "base_uri": "https://localhost:8080/"
        },
        "outputId": "7f096e89-f234-4be6-cbc8-f60aa3d28fdc"
      },
      "outputs": [
        {
          "output_type": "stream",
          "name": "stdout",
          "text": [
            "Looking for config file in saved_output/66597c40-8/cfg_args\n",
            "Config file found: saved_output/66597c40-8/cfg_args\n",
            "Rendering saved_output/66597c40-8\n",
            "Loading trained model at iteration 30000 [07/12 17:50:19]\n",
            "Reading camera 301/301 [07/12 17:50:20]\n",
            "Loading Training Cameras [07/12 17:50:20]\n",
            "Loading Test Cameras [07/12 17:50:25]\n",
            "Using 12 threads for rendering [07/12 17:50:31]\n",
            "Rendering progress: 100% 301/301 [00:17<00:00, 17.41it/s]\n",
            "Looking for config file in saved_output/9f598e1d-f/cfg_args\n",
            "Config file found: saved_output/9f598e1d-f/cfg_args\n",
            "Rendering saved_output/9f598e1d-f\n",
            "Loading trained model at iteration 30000 [07/12 17:50:51]\n",
            "Reading camera 301/301 [07/12 17:50:53]\n",
            "Loading Training Cameras [07/12 17:50:53]\n",
            "Loading Test Cameras [07/12 17:50:57]\n",
            "Using 12 threads for rendering [07/12 17:50:59]\n",
            "Rendering progress: 100% 301/301 [00:17<00:00, 17.66it/s]\n"
          ]
        }
      ],
      "source": [
        "# Replace with your output.\n",
        "!python render.py -m saved_output/66597c40-8"
      ]
    },
    {
      "cell_type": "code",
      "execution_count": null,
      "metadata": {
        "colab": {
          "background_save": true
        },
        "id": "CUaJQ6UJE0HE"
      },
      "outputs": [],
      "source": [
        "# Display the rendered image. train data will look much better than test\n",
        "from IPython.display import Image, display\n",
        "\n",
        "saved_model = \"66597c40-8\"\n",
        "dataset = \"test\"\n",
        "saved_iters = 30000\n",
        "png = \"00005.png\"\n",
        "\n",
        "gt_path = f'saved_output/{saved_model}/{dataset}/ours_{saved_iters}/gt/{png}'\n",
        "render_path = f'saved_output/{saved_model}/{dataset}/ours_{saved_iters}/renders/{png}'\n",
        "\n",
        "print(\"Ground Truth Image:\")\n",
        "display(Image(filename=gt_path))\n",
        "\n",
        "print(\"\\nRendered Image:\")\n",
        "display(Image(filename=render_path))"
      ]
    }
  ],
  "metadata": {
    "accelerator": "GPU",
    "colab": {
      "gpuType": "T4",
      "machine_shape": "hm",
      "provenance": [],
      "include_colab_link": true
    },
    "kernelspec": {
      "display_name": "Python 3",
      "name": "python3"
    },
    "language_info": {
      "name": "python"
    }
  },
  "nbformat": 4,
  "nbformat_minor": 0
}