{
  "nbformat": 4,
  "nbformat_minor": 0,
  "metadata": {
    "colab": {
      "provenance": [],
      "mount_file_id": "1bL_mVWFq33iExye3uJ8_YtulO7kP4Waz",
      "authorship_tag": "ABX9TyO2nqIChr9mVCb0r9z5aOL9",
      "include_colab_link": true
    },
    "kernelspec": {
      "name": "python3",
      "display_name": "Python 3"
    },
    "language_info": {
      "name": "python"
    }
  },
  "cells": [
    {
      "cell_type": "markdown",
      "metadata": {
        "id": "view-in-github",
        "colab_type": "text"
      },
      "source": [
        "<a href=\"https://colab.research.google.com/github/MarioPariona117/3D-GS/blob/main/main.ipynb\" target=\"_parent\"><img src=\"https://colab.research.google.com/assets/colab-badge.svg\" alt=\"Open In Colab\"/></a>"
      ]
    },
    {
      "cell_type": "code",
      "source": [
        "### If it's your first time in this notebook, run the following, with your own email"
      ],
      "metadata": {
        "id": "x5DpH7WOMA_g"
      },
      "execution_count": null,
      "outputs": []
    },
    {
      "cell_type": "code",
      "source": [
        "# !ssh-keygen -t rsa -b 4096 -C \"rt590@cam.ac.uk\" -f ~/.ssh/id_rsa -N \"\""
      ],
      "metadata": {
        "colab": {
          "base_uri": "https://localhost:8080/"
        },
        "id": "NkS_XmWQh_qx",
        "outputId": "67c3aee4-f589-4ae1-c594-a346aad9aeeb"
      },
      "execution_count": 9,
      "outputs": [
        {
          "output_type": "stream",
          "name": "stdout",
          "text": [
            "Generating public/private rsa key pair.\n",
            "/root/.ssh/id_rsa already exists.\n",
            "Overwrite (y/n)? n\n"
          ]
        }
      ]
    },
    {
      "cell_type": "code",
      "source": [
        "# !cat ~/.ssh/id_rsa.pub\n",
        "# Copy this public key to your keys section in Github settings"
      ],
      "metadata": {
        "colab": {
          "base_uri": "https://localhost:8080/"
        },
        "id": "GvC2H9wrkUSc",
        "outputId": "7d486abc-0dd0-49da-ea4f-7f69d69fa656"
      },
      "execution_count": 10,
      "outputs": [
        {
          "output_type": "stream",
          "name": "stdout",
          "text": [
            "ssh-rsa AAAAB3NzaC1yc2EAAAADAQABAAACAQCkmvtMoMiVYz2Y+Wa8kTUURAmXG1yTcobo6/fe6+xTD8SKdseeE6XxgRWXJomTiLrf0/USLBqNMRpKFsR8SIwDxL2P8FX+O67TE0Mm0bKbfQIS4jahNupZVeDOSqTfRKFpBw+JYui1KdDl1YR9NOzDtZTuovKt8fA/J7z3nbzB7nvoVkFytyor8+UU7nT0luxHGjNH3xpCdYjwzSwlShWBh0Dexvtxx7rLftXCRbHX4yv3MyXojO1vsc4FXYpoIwMGe/rHcTVGPXsy1uVyS5Zga0KLmS9ZrutXkPRDRymD+HYnwmescx+VHT8Cv+AUxjG5Nc7PwYdNjMrvjuGSMLbmhqd+CKI9z4bFfLeRjxEJyAVJP2jr7uCCdsh1OSZtJAygKBeeH86gxOcadUMdQy2EM204oBYm29+3nkTQEH/4pocYVu6wFFR/XFXCxKLxWADzcOj8FJTi5rOVyOO6XsPaspc5JMDmSwNbIaWGPMKKirvm7yU/QNpJga+rNFeNlacdL1GwcfBoRq1QsKZJ+Z0HgeW5pxGwOvJeMCWMi20jJgcu2EJbXbbJqXlRfgl2Xqw5ndZEeZK7+W+QsIWtoTR7V3+CUFzmPyvaup7ElQv7dMoSxitEBMCMlrDhMjOvGm6nELCMAFPRYYrUjHeLO4EKgSE/kQd4HJplslkARXdFNQ== rt590@cam.ac.uk\n"
          ]
        }
      ]
    },
    {
      "cell_type": "code",
      "source": [
        "# !eval \"$(ssh-agent -s)\" && ssh-add ~/.ssh/id_rsa && ssh-add -l || echo \"SSH setup failed\""
      ],
      "metadata": {
        "colab": {
          "base_uri": "https://localhost:8080/"
        },
        "id": "miDsVkiTlW3W",
        "outputId": "f594e2b6-6b23-4bd7-eac4-dfd9d3c1838e"
      },
      "execution_count": 11,
      "outputs": [
        {
          "output_type": "stream",
          "name": "stdout",
          "text": [
            "Agent pid 4142\n",
            "Identity added: /root/.ssh/id_rsa (rt590@cam.ac.uk)\n",
            "4096 SHA256:WwtyNSl9UA4FgpzVGebhAR/dBGl3h8bfN69VeKriLaw rt590@cam.ac.uk (RSA)\n"
          ]
        }
      ]
    },
    {
      "cell_type": "code",
      "source": [
        "# !ssh-keyscan -t rsa github.com >> ~/.ssh/known_hosts"
      ],
      "metadata": {
        "colab": {
          "base_uri": "https://localhost:8080/"
        },
        "id": "GbarGMDOmlup",
        "outputId": "8c526d9d-d80f-47f4-ecfd-ae62f67611a3"
      },
      "execution_count": 15,
      "outputs": [
        {
          "output_type": "stream",
          "name": "stdout",
          "text": [
            "# github.com:22 SSH-2.0-babeld-2b739aa97\n"
          ]
        }
      ]
    },
    {
      "cell_type": "code",
      "source": [
        "from google.colab import drive\n",
        "import os\n",
        "if not os.path.exists('/content/drive'):\n",
        "  drive.mount('/content/drive')\n",
        "\n",
        "!ls /content/drive/MyDrive/.ssh_backup\n",
        "\n",
        "!cp -r /content/drive/MyDrive/.ssh_backup ~/.ssh\n",
        "!chmod 700 ~/.ssh\n",
        "!chmod 600 ~/.ssh/id_rsa\n",
        "!chmod 644 ~/.ssh/known_hosts\n",
        "\n",
        "# Start SSH agent and add the key\n",
        "!eval \"$(ssh-agent -s)\"\n",
        "!ssh-add ~/.ssh/id_rsa\n",
        "\n",
        "# Test SSH connection\n",
        "!ssh -T git@github.com"
      ],
      "metadata": {
        "id": "4meJ1tH2KSwd"
      },
      "execution_count": 16,
      "outputs": []
    },
    {
      "cell_type": "code",
      "source": [
        "!git clone git@github.com:MarioPariona117/3D-GS.git"
      ],
      "metadata": {
        "colab": {
          "base_uri": "https://localhost:8080/"
        },
        "id": "l3zM40Tpm9qn",
        "outputId": "5cf7e88d-a563-4d91-e498-acbf12429ec3"
      },
      "execution_count": 69,
      "outputs": [
        {
          "output_type": "stream",
          "name": "stdout",
          "text": [
            "Cloning into '3D-GS'...\n",
            "remote: Enumerating objects: 856, done.\u001b[K\n",
            "remote: Counting objects: 100% (810/810), done.\u001b[K\n",
            "remote: Compressing objects: 100% (374/374), done.\u001b[K\n",
            "remote: Total 856 (delta 444), reused 778 (delta 424), pack-reused 46 (from 1)\u001b[K\n",
            "Receiving objects: 100% (856/856), 78.72 MiB | 9.05 MiB/s, done.\n",
            "Resolving deltas: 100% (444/444), done.\n"
          ]
        }
      ]
    },
    {
      "cell_type": "code",
      "source": [
        "%cd 3D-GS"
      ],
      "metadata": {
        "colab": {
          "base_uri": "https://localhost:8080/"
        },
        "id": "pq03-aqQo2Ip",
        "outputId": "0380bde5-103e-437f-dcfe-937a47fb5f56"
      },
      "execution_count": 71,
      "outputs": [
        {
          "output_type": "stream",
          "name": "stdout",
          "text": [
            "/content/3D-GS\n"
          ]
        }
      ]
    },
    {
      "cell_type": "code",
      "source": [
        "!git pull"
      ],
      "metadata": {
        "colab": {
          "base_uri": "https://localhost:8080/"
        },
        "id": "JyiHvYMBo9EW",
        "outputId": "9268e770-6098-47bf-ec1c-bd13b3a6a4aa"
      },
      "execution_count": 72,
      "outputs": [
        {
          "output_type": "stream",
          "name": "stdout",
          "text": [
            "Already up to date.\n"
          ]
        }
      ]
    },
    {
      "cell_type": "code",
      "source": [
        "!git checkout \"Leo\"\n",
        "!git config --global user.email \"rt590@cam.ac.uk\"\n",
        "!git config --global user.name \"Ryuichi-Student\"\n",
        "!git add .\n",
        "!git commit -m \"COLAB: ...\"\n",
        "!git push --set-upstream origin Leo"
      ],
      "metadata": {
        "colab": {
          "base_uri": "https://localhost:8080/"
        },
        "id": "UfO8WcAmo-wV",
        "outputId": "ae025516-d6ef-464e-d061-d9f44b9f3b68"
      },
      "execution_count": 78,
      "outputs": [
        {
          "output_type": "stream",
          "name": "stdout",
          "text": [
            "Already on 'Leo'\n",
            "Your branch is up to date with 'origin/Leo'.\n",
            "On branch Leo\n",
            "Your branch is up to date with 'origin/Leo'.\n",
            "\n",
            "nothing to commit, working tree clean\n",
            "Branch 'Leo' set up to track remote branch 'Leo' from 'origin'.\n",
            "Everything up-to-date\n"
          ]
        }
      ]
    },
    {
      "cell_type": "code",
      "source": [
        "# !git add .\n",
        "# !git commit -m \"COLAB: ...\"\n",
        "# !git push"
      ],
      "metadata": {
        "id": "D82bDUF9h2Cx"
      },
      "execution_count": null,
      "outputs": []
    },
    {
      "cell_type": "code",
      "source": [],
      "metadata": {
        "id": "gJlnMgBBoMhl"
      },
      "execution_count": null,
      "outputs": []
    }
  ]
}